{
  "nbformat": 4,
  "nbformat_minor": 0,
  "metadata": {
    "colab": {
      "name": "html_parser_testing.ipynb",
      "provenance": [],
      "authorship_tag": "ABX9TyOPzJaCckh0JcRMcnJVwkSV",
      "include_colab_link": true
    },
    "kernelspec": {
      "name": "python3",
      "display_name": "Python 3"
    },
    "language_info": {
      "name": "python"
    }
  },
  "cells": [
    {
      "cell_type": "markdown",
      "metadata": {
        "id": "view-in-github",
        "colab_type": "text"
      },
      "source": [
        "<a href=\"https://colab.research.google.com/github/dxiong2001/malibu-ml/blob/html_parser/html_parser_testing.ipynb\" target=\"_parent\"><img src=\"https://colab.research.google.com/assets/colab-badge.svg\" alt=\"Open In Colab\"/></a>"
      ]
    },
    {
      "cell_type": "code",
      "execution_count": 1,
      "metadata": {
        "id": "YAraQFVY8EJk"
      },
      "outputs": [],
      "source": [
        "#!pip install beautifulsoup4"
      ]
    },
    {
      "cell_type": "code",
      "source": [
        "from bs4 import BeautifulSoup\n",
        "import requests\n",
        "import nltk\n",
        "from nltk.tokenize import sent_tokenize\n",
        "import re\n",
        "import unicodedata\n",
        "import spacy\n",
        "\n",
        "nltk.download('punkt')\n",
        "nltk.download('averaged_perceptron_tagger')\n",
        "nlp = spacy.load(\"en_core_web_sm\")\n"
      ],
      "metadata": {
        "colab": {
          "base_uri": "https://localhost:8080/"
        },
        "id": "gVoPHe948RZe",
        "outputId": "bfff993c-18a6-4904-e3cf-c3785bf97ea6"
      },
      "execution_count": 2,
      "outputs": [
        {
          "output_type": "stream",
          "name": "stderr",
          "text": [
            "[nltk_data] Downloading package punkt to /root/nltk_data...\n",
            "[nltk_data]   Unzipping tokenizers/punkt.zip.\n",
            "[nltk_data] Downloading package averaged_perceptron_tagger to\n",
            "[nltk_data]     /root/nltk_data...\n",
            "[nltk_data]   Unzipping taggers/averaged_perceptron_tagger.zip.\n"
          ]
        }
      ]
    },
    {
      "cell_type": "code",
      "source": [
        "#url='https://www.npr.org/2022/07/14/1111618620/secret-service-erased-texts-from-two-day-period-spanning-jan-6-attack-watchdog-s'\n",
        "#url = \"https://www.popsci.com/environment/climate-change-wildlife-migration/\"\n",
        "url = \"https://www.popsci.com/science/omicron-coronavirus-variant/\"\n",
        "page = requests.get(url)\n",
        "#page.content"
      ],
      "metadata": {
        "id": "7IhMww4w8UzC"
      },
      "execution_count": 3,
      "outputs": []
    },
    {
      "cell_type": "code",
      "source": [
        "soup = BeautifulSoup(page.content, 'html.parser')\n",
        "#print(soup.prettify())\n",
        "#list(soup.children)\n",
        "#grab body text\n",
        "body_text = soup.find('div', class_='Article-bodyText')\n",
        "body_text_p = body_text.find_all('p', class_='')\n",
        "\n",
        "#grab article information\n",
        "header = soup.find('div', class_='Article-header')\n",
        "article_info = header.find('p', class_='Article-author').get_text()\n",
        "title = header.find('h1', class_='u-entryTitle').get_text()\n",
        "author = article_info.split(\"|\")[0].replace(\"\\n                    \",\"\").replace(\"\\n              \",\"\")[2:]\n",
        "date = article_info.split(\"|\")[1].replace(\"\\n    \\n    Updated \",\"\").replace(\"\\n  \\n\",\"\")\n",
        "print(title)\n",
        "print(author)\n",
        "print(date)\n",
        "\n",
        "\n",
        "processed_text1 = [item.get_text() for item in body_text_p]\n",
        "print(processed_text1)\n",
        "\n",
        "processed_text2=[]\n",
        "for processed in processed_text1:\n",
        "  p2 = processed.replace('“', '\"').replace('”', '\"').replace(\"‘\", \"'\").replace(\"’\", \"'\").replace('…', '...').replace('–', '-')\n",
        "  #processed_text2.append(unicodedata.normalize('NFKD', p2).encode('ascii', 'ignore').decode('utf-8'))\n",
        "  processed_text2.append(unicodedata.normalize('NFKD', p2))\n",
        "\n",
        "print(processed_text2)"
      ],
      "metadata": {
        "colab": {
          "base_uri": "https://localhost:8080/"
        },
        "id": "5W344G1x81aR",
        "outputId": "97fc1b5a-df81-4652-fb02-8e4793e8a982"
      },
      "execution_count": 47,
      "outputs": [
        {
          "output_type": "stream",
          "name": "stdout",
          "text": [
            "Omicron may not be more dangerous than other variants, early hospital report suggests\n",
            "Hannah Seo\n",
            "Dec 6, 2021 1:06 PM\n",
            "['Preliminary clinical data from South Africa suggest that the COVID-19 Omicron variant may be less dangerous than initially feared.\\xa0', 'The South African Medical Research Council posted a report on Saturday outlining early Omicron cases from several hospitals. They found that patients infected with the Omicron strain tended to have less severe disease—most of the hospitalized patients did not need supplemental oxygen, a few developed COVID pneumonia, and fewer still required intensive care.\\xa0', '“The signals are a bit encouraging” but Omicron’s risk profile is still incomplete, Anthony Fauci, head of the National Institute of Allergy and Infectious Diseases, told CNN on Sunday. More clinical data from around the world will need to be assessed for epidemiologists to get a true sense of where Omicron stands in relation to other variants. “Clearly, in South Africa, Omicron has a transmission advantage,” Fauci added, “although it’s too early to make any definitive statements about it, thus far it does not look like there’s a great degree of severity to it.”', 'The South African report is based on limited data, however. It included just 166 patients, most of whom were admitted to hospitals for reasons unrelated to COVID-19—their infections were only found because those hospitals are testing all incoming patients for the coronavirus. Many did not have respiratory symptoms and stayed at the hospital for a relatively short time. Vaccination status was not reported for all of the patients.', '“We’re just not seeing the number of patients that have been seen in previous surges who are seriously ill, even this soon into the surge,” Michael Osterholm, director of the University of Minnesota’s Center for Infectious Diseases Research and Policy, told STAT, adding that he is “impressed by the relative lack of severe illness” with Omicron so far.\\xa0', '[Related: Flight bans won’t stop Omicron]', 'Data from the South African report show that the patients included tended to skew younger, which the report’s authors write could be a vaccination effect, “as 57 percent of people over the age of 50 have been vaccinated in the province compared to 34 percent in the 18-to-49-year group.”', 'Although Omicron appears to produce milder disease, scientists will need to study the effects of Omicron in different demographics, Marion Koopmans, head of virology at Erasmus Medical Center in Rotterdam, the Netherlands, told STAT. “Only once we have seen this spread across age groups, we will be able to tell,” she said.', 'Omicron has been detected in at least 16 states and at least 45 nations worldwide. Nevertheless, the Delta variant still seems to be the primary cause for concern, making up the majority of severe cases in the US—despite Omicron’s high transmissibility.', 'Omicron may have picked up genetic materials from the virus that causes the common cold in humans, resulting in the variant’s high contagiousness. A preprint, non-peer-reviewed study from a Massachusetts-based firm says that Omicron’s genetic code contains a sequence shared with the cold virus—a sequence that no other coronavirus variant seems to contain.', '“By virtue of Omicron adopting this insertion … it is essentially taking a leaf out of the seasonal coronaviruses’ page, which [explains] … how it lives and transmits more efficiently with human beings,” Venky Soundararajan, a biological engineer at Nference who co-wrote the study, told The Washington Post.']\n",
            "['Preliminary clinical data from South Africa suggest that the COVID-19 Omicron variant may be less dangerous than initially feared. ', 'The South African Medical Research Council posted a report on Saturday outlining early Omicron cases from several hospitals. They found that patients infected with the Omicron strain tended to have less severe disease—most of the hospitalized patients did not need supplemental oxygen, a few developed COVID pneumonia, and fewer still required intensive care. ', '\"The signals are a bit encouraging\" but Omicron\\'s risk profile is still incomplete, Anthony Fauci, head of the National Institute of Allergy and Infectious Diseases, told CNN on Sunday. More clinical data from around the world will need to be assessed for epidemiologists to get a true sense of where Omicron stands in relation to other variants. \"Clearly, in South Africa, Omicron has a transmission advantage,\" Fauci added, \"although it\\'s too early to make any definitive statements about it, thus far it does not look like there\\'s a great degree of severity to it.\"', 'The South African report is based on limited data, however. It included just 166 patients, most of whom were admitted to hospitals for reasons unrelated to COVID-19—their infections were only found because those hospitals are testing all incoming patients for the coronavirus. Many did not have respiratory symptoms and stayed at the hospital for a relatively short time. Vaccination status was not reported for all of the patients.', '\"We\\'re just not seeing the number of patients that have been seen in previous surges who are seriously ill, even this soon into the surge,\" Michael Osterholm, director of the University of Minnesota\\'s Center for Infectious Diseases Research and Policy, told STAT, adding that he is \"impressed by the relative lack of severe illness\" with Omicron so far. ', \"[Related: Flight bans won't stop Omicron]\", 'Data from the South African report show that the patients included tended to skew younger, which the report\\'s authors write could be a vaccination effect, \"as 57 percent of people over the age of 50 have been vaccinated in the province compared to 34 percent in the 18-to-49-year group.\"', 'Although Omicron appears to produce milder disease, scientists will need to study the effects of Omicron in different demographics, Marion Koopmans, head of virology at Erasmus Medical Center in Rotterdam, the Netherlands, told STAT. \"Only once we have seen this spread across age groups, we will be able to tell,\" she said.', \"Omicron has been detected in at least 16 states and at least 45 nations worldwide. Nevertheless, the Delta variant still seems to be the primary cause for concern, making up the majority of severe cases in the US—despite Omicron's high transmissibility.\", \"Omicron may have picked up genetic materials from the virus that causes the common cold in humans, resulting in the variant's high contagiousness. A preprint, non-peer-reviewed study from a Massachusetts-based firm says that Omicron's genetic code contains a sequence shared with the cold virus—a sequence that no other coronavirus variant seems to contain.\", '\"By virtue of Omicron adopting this insertion ... it is essentially taking a leaf out of the seasonal coronaviruses\\' page, which [explains] ... how it lives and transmits more efficiently with human beings,\" Venky Soundararajan, a biological engineer at Nference who co-wrote the study, told The Washington Post.']\n"
          ]
        }
      ]
    },
    {
      "cell_type": "code",
      "source": [
        "quotes = []\n",
        "\n",
        "#for p in processed_text:\n",
        "#  quotes.append(re.findall('\"([^\"]*)\"', p))\n",
        "\n",
        "sentences = [sent_tokenize(sent) for sent in processed_text2]\n",
        "\n",
        "combined_sentences = []\n",
        "for sent in sentences:\n",
        "  combined_sentences += sent\n",
        "# i=0\n",
        "# for sent in sentences:\n",
        "#   combined_sentence = \"\"\n",
        "#   for s in sent:\n",
        "#     combined_sentence += s\n",
        "#   sentences[i] = combined_sentence\n",
        "#   i=i+1\n",
        "\n",
        "\n",
        "quotes_incomplete = [re.findall('\"([^\"]*)\"', paragraph) for paragraph in processed_text2]\n",
        "quotes_incomplete = [q for q in quotes_incomplete if q != []]\n",
        "quotes_incomplete2 = [j for i in quotes_incomplete for j in i]\n",
        "\n",
        "quotes_complete =[]\n",
        "\n",
        "i=0\n",
        "for comb in combined_sentences:\n",
        "  \n",
        "  if(quotes_incomplete2[i] in comb):\n",
        "    if(comb not in quotes_complete):\n",
        "      quotes_complete.append(comb)\n",
        "    i = i + 1\n",
        "    while i < len(quotes_incomplete2) and quotes_incomplete2[i] in comb:\n",
        "        i = i + 1\n",
        "    \n",
        "  \n",
        "  if(i==len(quotes_incomplete2)):\n",
        "      break\n",
        "\n",
        "print(quotes_complete)\n",
        "#print(quotes)"
      ],
      "metadata": {
        "colab": {
          "base_uri": "https://localhost:8080/"
        },
        "id": "YLauW27G9d0w",
        "outputId": "288390a9-e683-4b81-b657-568ce0d5df74"
      },
      "execution_count": 12,
      "outputs": [
        {
          "output_type": "stream",
          "name": "stdout",
          "text": [
            "['Preliminary clinical data from South Africa suggest that the COVID-19 Omicron variant may be less dangerous than initially feared.', 'The South African Medical Research Council posted a report on Saturday outlining early Omicron cases from several hospitals.', 'They found that patients infected with the Omicron strain tended to have less severe diseasemost of the hospitalized patients did not need supplemental oxygen, a few developed COVID pneumonia, and fewer still required intensive care.', '\"The signals are a bit encouraging\" but Omicron\\'s risk profile is still incomplete, Anthony Fauci, head of the National Institute of Allergy and Infectious Diseases, told CNN on Sunday.', 'More clinical data from around the world will need to be assessed for epidemiologists to get a true sense of where Omicron stands in relation to other variants.', '\"Clearly, in South Africa, Omicron has a transmission advantage,\" Fauci added, \"although it\\'s too early to make any definitive statements about it, thus far it does not look like there\\'s a great degree of severity to it.\"', 'The South African report is based on limited data, however.', 'It included just 166 patients, most of whom were admitted to hospitals for reasons unrelated to COVID-19their infections were only found because those hospitals are testing all incoming patients for the coronavirus.', 'Many did not have respiratory symptoms and stayed at the hospital for a relatively short time.', 'Vaccination status was not reported for all of the patients.', '\"We\\'re just not seeing the number of patients that have been seen in previous surges who are seriously ill, even this soon into the surge,\" Michael Osterholm, director of the University of Minnesota\\'s Center for Infectious Diseases Research and Policy, told STAT, adding that he is \"impressed by the relative lack of severe illness\" with Omicron so far.', \"[Related: Flight bans won't stop Omicron]\", 'Data from the South African report show that the patients included tended to skew younger, which the report\\'s authors write could be a vaccination effect, \"as 57 percent of people over the age of 50 have been vaccinated in the province compared to 34 percent in the 18-to-49-year group.\"', 'Although Omicron appears to produce milder disease, scientists will need to study the effects of Omicron in different demographics, Marion Koopmans, head of virology at Erasmus Medical Center in Rotterdam, the Netherlands, told STAT.', '\"Only once we have seen this spread across age groups, we will be able to tell,\" she said.', 'Omicron has been detected in at least 16 states and at least 45 nations worldwide.', \"Nevertheless, the Delta variant still seems to be the primary cause for concern, making up the majority of severe cases in the USdespite Omicron's high transmissibility.\", \"Omicron may have picked up genetic materials from the virus that causes the common cold in humans, resulting in the variant's high contagiousness.\", \"A preprint, non-peer-reviewed study from a Massachusetts-based firm says that Omicron's genetic code contains a sequence shared with the cold virusa sequence that no other coronavirus variant seems to contain.\", '\"By virtue of Omicron adopting this insertion ... it is essentially taking a leaf out of the seasonal coronaviruses\\' page, which [explains] ... how it lives and transmits more efficiently with human beings,\" Venky Soundararajan, a biological engineer at Nference who co-wrote the study, told The Washington Post.']\n",
            "['\"The signals are a bit encouraging\" but Omicron\\'s risk profile is still incomplete, Anthony Fauci, head of the National Institute of Allergy and Infectious Diseases, told CNN on Sunday.', '\"Clearly, in South Africa, Omicron has a transmission advantage,\" Fauci added, \"although it\\'s too early to make any definitive statements about it, thus far it does not look like there\\'s a great degree of severity to it.\"', '\"We\\'re just not seeing the number of patients that have been seen in previous surges who are seriously ill, even this soon into the surge,\" Michael Osterholm, director of the University of Minnesota\\'s Center for Infectious Diseases Research and Policy, told STAT, adding that he is \"impressed by the relative lack of severe illness\" with Omicron so far.', 'Data from the South African report show that the patients included tended to skew younger, which the report\\'s authors write could be a vaccination effect, \"as 57 percent of people over the age of 50 have been vaccinated in the province compared to 34 percent in the 18-to-49-year group.\"', '\"Only once we have seen this spread across age groups, we will be able to tell,\" she said.', '\"By virtue of Omicron adopting this insertion ... it is essentially taking a leaf out of the seasonal coronaviruses\\' page, which [explains] ... how it lives and transmits more efficiently with human beings,\" Venky Soundararajan, a biological engineer at Nference who co-wrote the study, told The Washington Post.']\n"
          ]
        }
      ]
    },
    {
      "cell_type": "code",
      "source": [
        "##need to handle additional p tag text not relevant to article\n",
        "\n",
        "joined_sentences = ' '.join(combined_sentences)\n",
        "print(joined_sentences)\n",
        "nlp_processed_text = nlp(joined_sentences)\n",
        "\n",
        "named_entities=[]\n",
        "for entities in nlp_processed_text.ents:\n",
        "  named_entities.append((entities.text, entities.label_))\n",
        "  print(entities.text, entities.label_)\n",
        "\n",
        "people = []\n",
        "for n in named_entities:\n",
        "  if(n[1]==\"PERSON\" and \" \" in n[0] and not any(i.isdigit() for i in n[0])):\n",
        "    people.append(n[0])\n",
        "\n",
        "people_extended = []\n",
        "for p in range(len(people)):\n",
        "  temp = []\n",
        "  temp.append(people[p])\n",
        "  temp = temp+people[p].split()\n",
        "  people_extended.append(temp)\n",
        "print(people)\n",
        "print(people_extended)"
      ],
      "metadata": {
        "colab": {
          "base_uri": "https://localhost:8080/"
        },
        "id": "W2e5uZRgUnP3",
        "outputId": "cd879b41-e6eb-44a8-fb3b-38a4bc6785f3"
      },
      "execution_count": 45,
      "outputs": [
        {
          "output_type": "stream",
          "name": "stdout",
          "text": [
            "Preliminary clinical data from South Africa suggest that the COVID-19 Omicron variant may be less dangerous than initially feared. The South African Medical Research Council posted a report on Saturday outlining early Omicron cases from several hospitals. They found that patients infected with the Omicron strain tended to have less severe diseasemost of the hospitalized patients did not need supplemental oxygen, a few developed COVID pneumonia, and fewer still required intensive care. \"The signals are a bit encouraging\" but Omicron's risk profile is still incomplete, Anthony Fauci, head of the National Institute of Allergy and Infectious Diseases, told CNN on Sunday. More clinical data from around the world will need to be assessed for epidemiologists to get a true sense of where Omicron stands in relation to other variants. \"Clearly, in South Africa, Omicron has a transmission advantage,\" Fauci added, \"although it's too early to make any definitive statements about it, thus far it does not look like there's a great degree of severity to it.\" The South African report is based on limited data, however. It included just 166 patients, most of whom were admitted to hospitals for reasons unrelated to COVID-19their infections were only found because those hospitals are testing all incoming patients for the coronavirus. Many did not have respiratory symptoms and stayed at the hospital for a relatively short time. Vaccination status was not reported for all of the patients. \"We're just not seeing the number of patients that have been seen in previous surges who are seriously ill, even this soon into the surge,\" Michael Osterholm, director of the University of Minnesota's Center for Infectious Diseases Research and Policy, told STAT, adding that he is \"impressed by the relative lack of severe illness\" with Omicron so far. [Related: Flight bans won't stop Omicron] Data from the South African report show that the patients included tended to skew younger, which the report's authors write could be a vaccination effect, \"as 57 percent of people over the age of 50 have been vaccinated in the province compared to 34 percent in the 18-to-49-year group.\" Although Omicron appears to produce milder disease, scientists will need to study the effects of Omicron in different demographics, Marion Koopmans, head of virology at Erasmus Medical Center in Rotterdam, the Netherlands, told STAT. \"Only once we have seen this spread across age groups, we will be able to tell,\" she said. Omicron has been detected in at least 16 states and at least 45 nations worldwide. Nevertheless, the Delta variant still seems to be the primary cause for concern, making up the majority of severe cases in the USdespite Omicron's high transmissibility. Omicron may have picked up genetic materials from the virus that causes the common cold in humans, resulting in the variant's high contagiousness. A preprint, non-peer-reviewed study from a Massachusetts-based firm says that Omicron's genetic code contains a sequence shared with the cold virusa sequence that no other coronavirus variant seems to contain. \"By virtue of Omicron adopting this insertion ... it is essentially taking a leaf out of the seasonal coronaviruses' page, which [explains] ... how it lives and transmits more efficiently with human beings,\" Venky Soundararajan, a biological engineer at Nference who co-wrote the study, told The Washington Post.\n",
            "South Africa GPE\n",
            "COVID-19 Omicron PERSON\n",
            "The South African Medical Research Council ORG\n",
            "Saturday DATE\n",
            "Omicron ORG\n",
            "Omicron ORG\n",
            "Omicron ORG\n",
            "Anthony Fauci PERSON\n",
            "the National Institute of Allergy and Infectious Diseases ORG\n",
            "CNN ORG\n",
            "Sunday DATE\n",
            "Omicron ORG\n",
            "South Africa GPE\n",
            "Omicron ORG\n",
            "South African NORP\n",
            "166 CARDINAL\n",
            "Michael Osterholm PERSON\n",
            "the University of Minnesota's ORG\n",
            "Center for Infectious Diseases Research and Policy ORG\n",
            "STAT ORG\n",
            "Omicron ORG\n",
            "Omicron ORG\n",
            "South African NORP\n",
            "57 percent PERCENT\n",
            "the age of 50 DATE\n",
            "34 percent PERCENT\n",
            "18-to-49 QUANTITY\n",
            "Omicron ORG\n",
            "Omicron ORG\n",
            "Marion Koopmans PERSON\n",
            "Erasmus Medical Center ORG\n",
            "Rotterdam GPE\n",
            "Netherlands GPE\n",
            "STAT ORG\n",
            "Omicron ORG\n",
            "at least 16 CARDINAL\n",
            "at least 45 CARDINAL\n",
            "Delta LOC\n",
            "Omicron ORG\n",
            "Omicron ORG\n",
            "Massachusetts GPE\n",
            "Omicron ORG\n",
            "Omicron ORG\n",
            "seasonal DATE\n",
            "Venky Soundararajan PERSON\n",
            "Nference PERSON\n",
            "The Washington Post ORG\n",
            "['Anthony Fauci', 'Michael Osterholm', 'Marion Koopmans', 'Venky Soundararajan']\n",
            "[['Anthony Fauci', 'Anthony', 'Fauci'], ['Michael Osterholm', 'Michael', 'Osterholm'], ['Marion Koopmans', 'Marion', 'Koopmans'], ['Venky Soundararajan', 'Venky', 'Soundararajan']]\n"
          ]
        }
      ]
    },
    {
      "cell_type": "code",
      "source": [
        "tokens = nltk.word_tokenize(quotes_complete[1])\n",
        "pos_tag = nltk.pos_tag(tokens)\n",
        "print([p[1]=='NNP' for p in pos_tag])"
      ],
      "metadata": {
        "colab": {
          "base_uri": "https://localhost:8080/"
        },
        "id": "khKEUZHZ_0P2",
        "outputId": "8e4e0030-156b-4010-e76e-e3bc17ff7a3b"
      },
      "execution_count": 7,
      "outputs": [
        {
          "output_type": "stream",
          "name": "stdout",
          "text": [
            "[False, False, False, False, True, True, False, True, False, False, False, False, False, False, True, False, False, False, False, False, False, False, False, False, False, False, False, False, False, False, False, False, False, False, False, False, False, False, False, False, False, False, False, False, False, False, False, False, False]\n"
          ]
        }
      ]
    },
    {
      "cell_type": "code",
      "source": [
        "# def attribute_quote(people, quotes):\n",
        "#   for q in quotes:\n",
        "\n"
      ],
      "metadata": {
        "id": "tfqaqq_Me0NH"
      },
      "execution_count": 9,
      "outputs": []
    },
    {
      "cell_type": "code",
      "source": [
        ""
      ],
      "metadata": {
        "id": "bbwUkuk3p9GZ"
      },
      "execution_count": null,
      "outputs": []
    }
  ]
}