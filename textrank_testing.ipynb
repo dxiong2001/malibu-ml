{
  "nbformat": 4,
  "nbformat_minor": 0,
  "metadata": {
    "colab": {
      "name": "textrank_testing.ipynb",
      "provenance": [],
      "authorship_tag": "ABX9TyN1lB7HB+DP+WBuFKPYiIWJ",
      "include_colab_link": true
    },
    "kernelspec": {
      "name": "python3",
      "display_name": "Python 3"
    },
    "language_info": {
      "name": "python"
    }
  },
  "cells": [
    {
      "cell_type": "markdown",
      "metadata": {
        "id": "view-in-github",
        "colab_type": "text"
      },
      "source": [
        "<a href=\"https://colab.research.google.com/github/dxiong2001/malibu-ml/blob/main/textrank_testing.ipynb\" target=\"_parent\"><img src=\"https://colab.research.google.com/assets/colab-badge.svg\" alt=\"Open In Colab\"/></a>"
      ]
    },
    {
      "cell_type": "code",
      "execution_count": 38,
      "metadata": {
        "colab": {
          "base_uri": "https://localhost:8080/"
        },
        "id": "h00qqAqCK8SP",
        "outputId": "79ec537d-45c9-41c3-a202-a846ba7dda32"
      },
      "outputs": [
        {
          "output_type": "stream",
          "name": "stderr",
          "text": [
            "[nltk_data] Downloading package gutenberg to /root/nltk_data...\n",
            "[nltk_data]   Package gutenberg is already up-to-date!\n",
            "[nltk_data] Downloading package punkt to /root/nltk_data...\n",
            "[nltk_data]   Package punkt is already up-to-date!\n",
            "[nltk_data] Downloading package stopwords to /root/nltk_data...\n",
            "[nltk_data]   Package stopwords is already up-to-date!\n",
            "[nltk_data] Downloading package brown to /root/nltk_data...\n",
            "[nltk_data]   Package brown is already up-to-date!\n"
          ]
        }
      ],
      "source": [
        "import numpy as np\n",
        "import pandas as pd\n",
        "import nltk\n",
        "import re\n",
        "from nltk.tokenize import sent_tokenize\n",
        "import nltk.tokenize.texttiling as tt\n",
        "from nltk.corpus import stopwords\n",
        "from gensim.models import Word2Vec\n",
        "from scipy import spatial\n",
        "import networkx as nx\n",
        "nltk.download('gutenberg')\n",
        "nltk.download('punkt')\n",
        "nltk.download('stopwords')\n",
        "nltk.download('brown')\n",
        "from nltk.corpus import brown\n",
        "\n",
        "import re"
      ]
    },
    {
      "cell_type": "code",
      "source": [
        "#text='''Santiago is a Shepherd who has a recurring dream which is supposedly prophetic. Inspired on learning this, he undertakes a journey to Egypt to discover the meaning of life and fulfill his destiny. During the course of his travels, he learns of his true purpose and meets many characters, including an “Alchemist”, that teach him valuable lessons about achieving his dreams. Santiago sets his sights on obtaining a certain kind of “treasure” for which he travels to Egypt. The key message is, “when you want something, all the universe conspires in helping you to achieve it.” Towards the final arc, Santiago gets robbed by bandits who end up revealing that the “treasure” he was looking for is buried in the place where his journey began. The end.'''\n",
        "text='''In late May 1797 Adams met with his cabinet to discuss the situation and to choose a special commission to France. Adams initially proposed that John Marshall and Elbridge Gerry join Pinckney on the commission, but his cabinet objected to the choice of Gerry because he was not a strong Federalist. Francis Dana was chosen instead of Gerry, but he declined to serve, and Adams, who considered Gerry one of the \"two most impartial men in America\" (he himself being the other), submitted his name to the United States Senate in Dana's stead without consulting his cabinet.[8] Adams, in introducing the matter to Congress, made a somewhat belligerent speech in which he called for a vigorous defense of the nation's neutrality and expansion of the United States Navy, but stopped short of calling for war against France.[9] Congress approved this choice of commissioners, and Adams instructed them to negotiate similar terms to those that had been granted to Britain in the Jay Treaty.[10] The commissioners were also instructed to refuse loans, but to be flexible in the arrangement of payment terms for financial matters.[11] Marshall left for Europe in mid-July to join Pinckney, with Gerry following a few weeks later.[12] The political divisions in the commission's makeup were reflected in their attitudes toward the negotiations: Marshall and Pinckney, both Federalists, distrusted the French, while Gerry (who was then opposed to political parties) was willing to be flexible and unhurried in dealing with them.[13]\n",
        "\n",
        "The French Republic, established in 1792 at the height of the French Revolution, was by 1797 governed by a bicameral legislative assembly, with a five-member French Directory acting as the national executive.[b] The Directory was undergoing both internal power struggles and struggles with the Council of Five Hundred, the lower chamber of the legislature. Ministerial changes took place in the first half of 1797, including the selection in July of Charles Maurice de Talleyrand as foreign minister.[15] Talleyrand, who had recently spent a few years in the United States, was openly concerned about the establishment of closer ties between the U.S. and Britain. The Directory, generally not well-disposed to American interests, became notably more hostile to them in September 1797, when an internal coup propelled several anti-Americans into power.[16] These leaders, and Talleyrand, viewed President Adams as hostile to their interests, but did not think that there was significant danger of war.[17] In part based on advice imparted to French diplomats by Jefferson, Talleyrand decided to adopt a measured, slow pace to the negotiations.[18]\n",
        "\n",
        "\n",
        "The American commission arrived in Paris in early October, and immediately requested a meeting with Talleyrand. After an initial brief meeting (in which Talleyrand only provisionally accepted the commissioners' credentials), a longer meeting was held a week later. Talleyrand sought from the commissioners an explanation for the speech Adams had made in May, which had angered Directory members; his motivation was to determine how favorably the commissioners were disposed to the negotiations. If they responded in an unfavorable manner, the Directory would refuse to accept their credentials.[19] The commissioners first learned of Talleyrand's expected demand on October 14 through an indirect channel. They decided that no explanation would be given for Adams' speech.[20] '''\n",
        "sentences=sent_tokenize(text)"
      ],
      "metadata": {
        "id": "Rsl2SUgIRdxM"
      },
      "execution_count": 39,
      "outputs": []
    },
    {
      "cell_type": "code",
      "source": [
        "sentences_clean=[re.sub(r'[^\\w\\s]','',sentence.lower()) for sentence in sentences]\n",
        "stop_words = stopwords.words('english')\n",
        "sentence_tokens=[[words for words in sentence.split(' ') if words not in stop_words] for sentence in sentences_clean]\n",
        "sentence_tokens"
      ],
      "metadata": {
        "colab": {
          "base_uri": "https://localhost:8080/"
        },
        "id": "BNXwBC3SRfPC",
        "outputId": "a585985c-514e-43ff-cf1e-0244e8a03b3a"
      },
      "execution_count": 40,
      "outputs": [
        {
          "output_type": "execute_result",
          "data": {
            "text/plain": [
              "[['late',\n",
              "  'may',\n",
              "  '1797',\n",
              "  'adams',\n",
              "  'met',\n",
              "  'cabinet',\n",
              "  'discuss',\n",
              "  'situation',\n",
              "  'choose',\n",
              "  'special',\n",
              "  'commission',\n",
              "  'france'],\n",
              " ['adams',\n",
              "  'initially',\n",
              "  'proposed',\n",
              "  'john',\n",
              "  'marshall',\n",
              "  'elbridge',\n",
              "  'gerry',\n",
              "  'join',\n",
              "  'pinckney',\n",
              "  'commission',\n",
              "  'cabinet',\n",
              "  'objected',\n",
              "  'choice',\n",
              "  'gerry',\n",
              "  'strong',\n",
              "  'federalist'],\n",
              " ['francis',\n",
              "  'dana',\n",
              "  'chosen',\n",
              "  'instead',\n",
              "  'gerry',\n",
              "  'declined',\n",
              "  'serve',\n",
              "  'adams',\n",
              "  'considered',\n",
              "  'gerry',\n",
              "  'one',\n",
              "  'two',\n",
              "  'impartial',\n",
              "  'men',\n",
              "  'america',\n",
              "  'submitted',\n",
              "  'name',\n",
              "  'united',\n",
              "  'states',\n",
              "  'senate',\n",
              "  'danas',\n",
              "  'stead',\n",
              "  'without',\n",
              "  'consulting',\n",
              "  'cabinet'],\n",
              " ['8',\n",
              "  'adams',\n",
              "  'introducing',\n",
              "  'matter',\n",
              "  'congress',\n",
              "  'made',\n",
              "  'somewhat',\n",
              "  'belligerent',\n",
              "  'speech',\n",
              "  'called',\n",
              "  'vigorous',\n",
              "  'defense',\n",
              "  'nations',\n",
              "  'neutrality',\n",
              "  'expansion',\n",
              "  'united',\n",
              "  'states',\n",
              "  'navy',\n",
              "  'stopped',\n",
              "  'short',\n",
              "  'calling',\n",
              "  'war',\n",
              "  'france'],\n",
              " ['9',\n",
              "  'congress',\n",
              "  'approved',\n",
              "  'choice',\n",
              "  'commissioners',\n",
              "  'adams',\n",
              "  'instructed',\n",
              "  'negotiate',\n",
              "  'similar',\n",
              "  'terms',\n",
              "  'granted',\n",
              "  'britain',\n",
              "  'jay',\n",
              "  'treaty'],\n",
              " ['10',\n",
              "  'commissioners',\n",
              "  'also',\n",
              "  'instructed',\n",
              "  'refuse',\n",
              "  'loans',\n",
              "  'flexible',\n",
              "  'arrangement',\n",
              "  'payment',\n",
              "  'terms',\n",
              "  'financial',\n",
              "  'matters'],\n",
              " ['11',\n",
              "  'marshall',\n",
              "  'left',\n",
              "  'europe',\n",
              "  'midjuly',\n",
              "  'join',\n",
              "  'pinckney',\n",
              "  'gerry',\n",
              "  'following',\n",
              "  'weeks',\n",
              "  'later'],\n",
              " ['12',\n",
              "  'political',\n",
              "  'divisions',\n",
              "  'commissions',\n",
              "  'makeup',\n",
              "  'reflected',\n",
              "  'attitudes',\n",
              "  'toward',\n",
              "  'negotiations',\n",
              "  'marshall',\n",
              "  'pinckney',\n",
              "  'federalists',\n",
              "  'distrusted',\n",
              "  'french',\n",
              "  'gerry',\n",
              "  'opposed',\n",
              "  'political',\n",
              "  'parties',\n",
              "  'willing',\n",
              "  'flexible',\n",
              "  'unhurried',\n",
              "  'dealing'],\n",
              " ['13\\n\\nthe',\n",
              "  'french',\n",
              "  'republic',\n",
              "  'established',\n",
              "  '1792',\n",
              "  'height',\n",
              "  'french',\n",
              "  'revolution',\n",
              "  '1797',\n",
              "  'governed',\n",
              "  'bicameral',\n",
              "  'legislative',\n",
              "  'assembly',\n",
              "  'fivemember',\n",
              "  'french',\n",
              "  'directory',\n",
              "  'acting',\n",
              "  'national',\n",
              "  'executive'],\n",
              " ['b',\n",
              "  'directory',\n",
              "  'undergoing',\n",
              "  'internal',\n",
              "  'power',\n",
              "  'struggles',\n",
              "  'struggles',\n",
              "  'council',\n",
              "  'five',\n",
              "  'hundred',\n",
              "  'lower',\n",
              "  'chamber',\n",
              "  'legislature'],\n",
              " ['ministerial',\n",
              "  'changes',\n",
              "  'took',\n",
              "  'place',\n",
              "  'first',\n",
              "  'half',\n",
              "  '1797',\n",
              "  'including',\n",
              "  'selection',\n",
              "  'july',\n",
              "  'charles',\n",
              "  'maurice',\n",
              "  'de',\n",
              "  'talleyrand',\n",
              "  'foreign',\n",
              "  'minister'],\n",
              " ['15',\n",
              "  'talleyrand',\n",
              "  'recently',\n",
              "  'spent',\n",
              "  'years',\n",
              "  'united',\n",
              "  'states',\n",
              "  'openly',\n",
              "  'concerned',\n",
              "  'establishment',\n",
              "  'closer',\n",
              "  'ties',\n",
              "  'us',\n",
              "  'britain'],\n",
              " ['directory',\n",
              "  'generally',\n",
              "  'welldisposed',\n",
              "  'american',\n",
              "  'interests',\n",
              "  'became',\n",
              "  'notably',\n",
              "  'hostile',\n",
              "  'september',\n",
              "  '1797',\n",
              "  'internal',\n",
              "  'coup',\n",
              "  'propelled',\n",
              "  'several',\n",
              "  'antiamericans',\n",
              "  'power'],\n",
              " ['16',\n",
              "  'leaders',\n",
              "  'talleyrand',\n",
              "  'viewed',\n",
              "  'president',\n",
              "  'adams',\n",
              "  'hostile',\n",
              "  'interests',\n",
              "  'think',\n",
              "  'significant',\n",
              "  'danger',\n",
              "  'war'],\n",
              " ['17',\n",
              "  'part',\n",
              "  'based',\n",
              "  'advice',\n",
              "  'imparted',\n",
              "  'french',\n",
              "  'diplomats',\n",
              "  'jefferson',\n",
              "  'talleyrand',\n",
              "  'decided',\n",
              "  'adopt',\n",
              "  'measured',\n",
              "  'slow',\n",
              "  'pace',\n",
              "  'negotiations'],\n",
              " ['18\\n\\n\\nthe',\n",
              "  'american',\n",
              "  'commission',\n",
              "  'arrived',\n",
              "  'paris',\n",
              "  'early',\n",
              "  'october',\n",
              "  'immediately',\n",
              "  'requested',\n",
              "  'meeting',\n",
              "  'talleyrand'],\n",
              " ['initial',\n",
              "  'brief',\n",
              "  'meeting',\n",
              "  'talleyrand',\n",
              "  'provisionally',\n",
              "  'accepted',\n",
              "  'commissioners',\n",
              "  'credentials',\n",
              "  'longer',\n",
              "  'meeting',\n",
              "  'held',\n",
              "  'week',\n",
              "  'later'],\n",
              " ['talleyrand',\n",
              "  'sought',\n",
              "  'commissioners',\n",
              "  'explanation',\n",
              "  'speech',\n",
              "  'adams',\n",
              "  'made',\n",
              "  'may',\n",
              "  'angered',\n",
              "  'directory',\n",
              "  'members',\n",
              "  'motivation',\n",
              "  'determine',\n",
              "  'favorably',\n",
              "  'commissioners',\n",
              "  'disposed',\n",
              "  'negotiations'],\n",
              " ['responded',\n",
              "  'unfavorable',\n",
              "  'manner',\n",
              "  'directory',\n",
              "  'would',\n",
              "  'refuse',\n",
              "  'accept',\n",
              "  'credentials'],\n",
              " ['19',\n",
              "  'commissioners',\n",
              "  'first',\n",
              "  'learned',\n",
              "  'talleyrands',\n",
              "  'expected',\n",
              "  'demand',\n",
              "  'october',\n",
              "  '14',\n",
              "  'indirect',\n",
              "  'channel'],\n",
              " ['decided', 'explanation', 'would', 'given', 'adams', 'speech'],\n",
              " ['20']]"
            ]
          },
          "metadata": {},
          "execution_count": 40
        }
      ]
    },
    {
      "cell_type": "code",
      "source": [
        "w2v=Word2Vec(sentence_tokens,size=1,min_count=1,iter=1000)\n",
        "sentence_embeddings=[[w2v[word][0] for word in words] for words in sentence_tokens]\n",
        "max_len=max([len(tokens) for tokens in sentence_tokens])\n",
        "sentence_embeddings=[np.pad(embedding,(0,max_len-len(embedding)),'constant') for embedding in sentence_embeddings]"
      ],
      "metadata": {
        "colab": {
          "base_uri": "https://localhost:8080/"
        },
        "id": "Eho4AHBbSCfK",
        "outputId": "7eaf5739-ab8b-447a-94d9-6c5ea89cc6aa"
      },
      "execution_count": 41,
      "outputs": [
        {
          "output_type": "stream",
          "name": "stderr",
          "text": [
            "/usr/local/lib/python3.7/dist-packages/ipykernel_launcher.py:2: DeprecationWarning: Call to deprecated `__getitem__` (Method will be removed in 4.0.0, use self.wv.__getitem__() instead).\n",
            "  \n"
          ]
        }
      ]
    },
    {
      "cell_type": "code",
      "source": [
        "similarity_matrix = np.zeros([len(sentence_tokens), len(sentence_tokens)])\n",
        "for i,row_embedding in enumerate(sentence_embeddings):\n",
        "    for j,column_embedding in enumerate(sentence_embeddings):\n",
        "        similarity_matrix[i][j]=1-spatial.distance.cosine(row_embedding,column_embedding)"
      ],
      "metadata": {
        "id": "ot1QE9tQSY-b"
      },
      "execution_count": 42,
      "outputs": []
    },
    {
      "cell_type": "code",
      "source": [
        "nx_graph = nx.from_numpy_array(similarity_matrix)\n",
        "scores = nx.pagerank(nx_graph)"
      ],
      "metadata": {
        "id": "TQytDn5rS-4S"
      },
      "execution_count": 43,
      "outputs": []
    },
    {
      "cell_type": "code",
      "source": [
        "top_sentence={sentence:scores[index] for index,sentence in enumerate(sentences)}\n",
        "top=dict(sorted(top_sentence.items(), key=lambda x: x[1], reverse=True)[:4])"
      ],
      "metadata": {
        "id": "1pgSaeQFTIrR"
      },
      "execution_count": 44,
      "outputs": []
    },
    {
      "cell_type": "code",
      "source": [
        "for sent in sentences:\n",
        "    if sent in top.keys():\n",
        "        print(sent)"
      ],
      "metadata": {
        "colab": {
          "base_uri": "https://localhost:8080/"
        },
        "id": "AukpFJsFTS95",
        "outputId": "dfd27f8e-fba9-42d8-ad4e-b0ec954347c2"
      },
      "execution_count": 45,
      "outputs": [
        {
          "output_type": "stream",
          "name": "stdout",
          "text": [
            "Ministerial changes took place in the first half of 1797, including the selection in July of Charles Maurice de Talleyrand as foreign minister.\n",
            "[15] Talleyrand, who had recently spent a few years in the United States, was openly concerned about the establishment of closer ties between the U.S. and Britain.\n",
            "[17] In part based on advice imparted to French diplomats by Jefferson, Talleyrand decided to adopt a measured, slow pace to the negotiations.\n",
            "After an initial brief meeting (in which Talleyrand only provisionally accepted the commissioners' credentials), a longer meeting was held a week later.\n"
          ]
        }
      ]
    },
    {
      "cell_type": "code",
      "source": [
        "emma = nltk.corpus.gutenberg.words('austen-emma.txt')"
      ],
      "metadata": {
        "id": "MfFkvkZkTVkJ"
      },
      "execution_count": 46,
      "outputs": []
    },
    {
      "cell_type": "code",
      "source": [
        "def textrank(text):\n",
        "\n",
        "  #Preproces text\n",
        "  sentences=sent_tokenize(text)\n",
        "  sentences_clean=[re.sub(r'[^\\w\\s]','',sentence.lower()) for sentence in sentences]\n",
        "  sentences_clean=[re.sub(r'\\[\\]','',sentence) for sentence in sentences_clean]\n",
        "  stop_words = stopwords.words('english')\n",
        "  sentence_tokens=[[words for words in sentence.split(' ') if words not in stop_words] for sentence in sentences_clean]\n",
        "\n",
        "  w2v=Word2Vec(sentence_tokens,size=1,min_count=1,iter=1000)\n",
        "  sentence_embeddings=[[w2v[word][0] for word in words] for words in sentence_tokens]\n",
        "  max_len=max([len(tokens) for tokens in sentence_tokens])\n",
        "  sentence_embeddings=[np.pad(embedding,(0,max_len-len(embedding)),'constant') for embedding in sentence_embeddings]\n",
        "\n",
        "  similarity_matrix = np.zeros([len(sentence_tokens), len(sentence_tokens)])\n",
        "  for i,row_embedding in enumerate(sentence_embeddings):\n",
        "      for j,column_embedding in enumerate(sentence_embeddings):\n",
        "          similarity_matrix[i][j]=1-spatial.distance.cosine(row_embedding,column_embedding)\n",
        "\n",
        "\n",
        "  nx_graph = nx.from_numpy_array(similarity_matrix)\n",
        "  scores = nx.pagerank(nx_graph)\n",
        "  #print(scores[0])\n",
        "  top_sentence={sentence:scores[index] for index,sentence in enumerate(sentences)}\n",
        "  top=dict(sorted(top_sentence.items(), key=lambda x: x[1], reverse=True)[:4])\n",
        "  \n",
        "  #print(sentences_clean)\n",
        "  summ = []\n",
        "  i=0\n",
        "  for sent in sentences:\n",
        "    if sent in top.keys():\n",
        "        summ.append(re.sub(r'\\[\\d*\\] ','',sent))\n",
        "        #print(re.sub(r'\\[\\d*\\] ','',sent))\n",
        "        i=i+1\n",
        "  return summ"
      ],
      "metadata": {
        "id": "-B-2Wv8Y0FNM"
      },
      "execution_count": 47,
      "outputs": []
    },
    {
      "cell_type": "code",
      "source": [
        "ranked = textrank(text)\n",
        "ranked"
      ],
      "metadata": {
        "colab": {
          "base_uri": "https://localhost:8080/"
        },
        "id": "gnzQh0Pm1Ct2",
        "outputId": "a208496f-3c66-437f-e3b5-d8d0c863a949"
      },
      "execution_count": 48,
      "outputs": [
        {
          "output_type": "stream",
          "name": "stderr",
          "text": [
            "/usr/local/lib/python3.7/dist-packages/ipykernel_launcher.py:11: DeprecationWarning: Call to deprecated `__getitem__` (Method will be removed in 4.0.0, use self.wv.__getitem__() instead).\n",
            "  # This is added back by InteractiveShellApp.init_path()\n"
          ]
        },
        {
          "output_type": "execute_result",
          "data": {
            "text/plain": [
              "['Ministerial changes took place in the first half of 1797, including the selection in July of Charles Maurice de Talleyrand as foreign minister.',\n",
              " 'Talleyrand, who had recently spent a few years in the United States, was openly concerned about the establishment of closer ties between the U.S. and Britain.',\n",
              " 'In part based on advice imparted to French diplomats by Jefferson, Talleyrand decided to adopt a measured, slow pace to the negotiations.',\n",
              " \"After an initial brief meeting (in which Talleyrand only provisionally accepted the commissioners' credentials), a longer meeting was held a week later.\"]"
            ]
          },
          "metadata": {},
          "execution_count": 48
        }
      ]
    },
    {
      "cell_type": "code",
      "source": [
        "texttiler = tt.TextTilingTokenizer()\n",
        "np.empty\n",
        "def generate(text):\n",
        "  tokenized = texttiler.tokenize(text)\n",
        "  l = len(tokenized)\n",
        "  l = []\n",
        "  #summ = np.zeros((l,2))\n",
        "  for t in range(len(tokenized)):\n",
        "    l.append(textrank(tokenized[t])[0])\n",
        "    #textrank(tokenized[t])\n",
        "    #summ[t][0]=textrank(tokenized[t])[0]\n",
        "    #summ[t][1]=textrank(tokenized[t])#[1]\n",
        "  return l\n",
        "print(\"output:\")\n",
        "raw_text = generate(text)\n",
        "\n",
        "processed_text = \"\"\n",
        "\n",
        "for i in raw_text:\n",
        "  processed_text = processed_text + i.replace(\"\\n\", \"\") + \" \"\n",
        "print(processed_text)"
      ],
      "metadata": {
        "colab": {
          "base_uri": "https://localhost:8080/"
        },
        "id": "mxqoa5FQbvw9",
        "outputId": "2fb2755e-a5f9-4cbc-d54f-4a6ceadf87e3"
      },
      "execution_count": 50,
      "outputs": [
        {
          "output_type": "stream",
          "name": "stdout",
          "text": [
            "output:\n"
          ]
        },
        {
          "output_type": "stream",
          "name": "stderr",
          "text": [
            "/usr/local/lib/python3.7/dist-packages/ipykernel_launcher.py:11: DeprecationWarning: Call to deprecated `__getitem__` (Method will be removed in 4.0.0, use self.wv.__getitem__() instead).\n",
            "  # This is added back by InteractiveShellApp.init_path()\n"
          ]
        },
        {
          "output_type": "stream",
          "name": "stdout",
          "text": [
            "In late May 1797 Adams met with his cabinet to discuss the situation and to choose a special commission to France. Ministerial changes took place in the first half of 1797, including the selection in July of Charles Maurice de Talleyrand as foreign minister. The American commission arrived in Paris in early October, and immediately requested a meeting with Talleyrand. \n"
          ]
        }
      ]
    },
    {
      "cell_type": "code",
      "source": [
        ""
      ],
      "metadata": {
        "id": "SCgO7yOKcyUO"
      },
      "execution_count": 49,
      "outputs": []
    }
  ]
}