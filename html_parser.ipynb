{
  "nbformat": 4,
  "nbformat_minor": 0,
  "metadata": {
    "colab": {
      "name": "html_parser.ipynb",
      "provenance": [],
      "authorship_tag": "ABX9TyMIYUyRACz0FMOQ+i4tSNGj",
      "include_colab_link": true
    },
    "kernelspec": {
      "name": "python3",
      "display_name": "Python 3"
    },
    "language_info": {
      "name": "python"
    }
  },
  "cells": [
    {
      "cell_type": "markdown",
      "metadata": {
        "id": "view-in-github",
        "colab_type": "text"
      },
      "source": [
        "<a href=\"https://colab.research.google.com/github/dxiong2001/malibu-ml/blob/html_parser/html_parser.ipynb\" target=\"_parent\"><img src=\"https://colab.research.google.com/assets/colab-badge.svg\" alt=\"Open In Colab\"/></a>"
      ]
    },
    {
      "cell_type": "code",
      "execution_count": 25,
      "metadata": {
        "id": "YAraQFVY8EJk"
      },
      "outputs": [],
      "source": [
        "#!pip install beautifulsoup4"
      ]
    },
    {
      "cell_type": "code",
      "source": [
        "from bs4 import BeautifulSoup\n",
        "import requests\n"
      ],
      "metadata": {
        "id": "gVoPHe948RZe"
      },
      "execution_count": 26,
      "outputs": []
    },
    {
      "cell_type": "code",
      "source": [
        "#url='https://www.npr.org/2022/07/14/1111618620/secret-service-erased-texts-from-two-day-period-spanning-jan-6-attack-watchdog-s'\n",
        "#url = \"https://www.popsci.com/environment/climate-change-wildlife-migration/\"\n",
        "url = \"https://www.popsci.com/science/omicron-coronavirus-variant/\"\n",
        "page = requests.get(url)\n",
        "#page.content"
      ],
      "metadata": {
        "id": "7IhMww4w8UzC"
      },
      "execution_count": 29,
      "outputs": []
    },
    {
      "cell_type": "code",
      "source": [
        "soup = BeautifulSoup(page.content, 'html.parser')\n",
        "#print(soup.prettify())\n",
        "#list(soup.children)\n",
        "p = soup.find_all('p', class_='')\n",
        "[item.get_text() for item in p]"
      ],
      "metadata": {
        "colab": {
          "base_uri": "https://localhost:8080/"
        },
        "id": "5W344G1x81aR",
        "outputId": "adbe0c64-289a-41b5-b0f1-d330fc663634"
      },
      "execution_count": 30,
      "outputs": [
        {
          "output_type": "execute_result",
          "data": {
            "text/plain": [
              "['Preliminary clinical data from South Africa suggest that the COVID-19 Omicron variant may be less dangerous than initially feared.\\xa0',\n",
              " 'The South African Medical Research Council posted a report on Saturday outlining early Omicron cases from several hospitals. They found that patients infected with the Omicron strain tended to have less severe disease—most of the hospitalized patients did not need supplemental oxygen, a few developed COVID pneumonia, and fewer still required intensive care.\\xa0',\n",
              " '“The signals are a bit encouraging” but Omicron’s risk profile is still incomplete, Anthony Fauci, head of the National Institute of Allergy and Infectious Diseases, told CNN on Sunday. More clinical data from around the world will need to be assessed for epidemiologists to get a true sense of where Omicron stands in relation to other variants. “Clearly, in South Africa, Omicron has a transmission advantage,” Fauci added, “although it’s too early to make any definitive statements about it, thus far it does not look like there’s a great degree of severity to it.”',\n",
              " 'The South African report is based on limited data, however. It included just 166 patients, most of whom were admitted to hospitals for reasons unrelated to COVID-19—their infections were only found because those hospitals are testing all incoming patients for the coronavirus. Many did not have respiratory symptoms and stayed at the hospital for a relatively short time. Vaccination status was not reported for all of the patients.',\n",
              " '“We’re just not seeing the number of patients that have been seen in previous surges who are seriously ill, even this soon into the surge,” Michael Osterholm, director of the University of Minnesota’s Center for Infectious Diseases Research and Policy, told STAT, adding that he is “impressed by the relative lack of severe illness” with Omicron so far.\\xa0',\n",
              " '[Related: Flight bans won’t stop Omicron]',\n",
              " 'Data from the South African report show that the patients included tended to skew younger, which the report’s authors write could be a vaccination effect, “as 57 percent of people over the age of 50 have been vaccinated in the province compared to 34 percent in the 18-to-49-year group.”',\n",
              " 'Although Omicron appears to produce milder disease, scientists will need to study the effects of Omicron in different demographics, Marion Koopmans, head of virology at Erasmus Medical Center in Rotterdam, the Netherlands, told STAT. “Only once we have seen this spread across age groups, we will be able to tell,” she said.',\n",
              " 'Omicron has been detected in at least 16 states and at least 45 nations worldwide. Nevertheless, the Delta variant still seems to be the primary cause for concern, making up the majority of severe cases in the US—despite Omicron’s high transmissibility.',\n",
              " 'Omicron may have picked up genetic materials from the virus that causes the common cold in humans, resulting in the variant’s high contagiousness. A preprint, non-peer-reviewed study from a Massachusetts-based firm says that Omicron’s genetic code contains a sequence shared with the cold virus—a sequence that no other coronavirus variant seems to contain.',\n",
              " '“By virtue of Omicron adopting this insertion … it is essentially taking a leaf out of the seasonal coronaviruses’ page, which [explains] … how it lives and transmits more efficiently with human beings,” Venky Soundararajan, a biological engineer at Nference who co-wrote the study, told The Washington Post.',\n",
              " 'We are a participant in the Amazon Services LLC Associates Program, an affiliate advertising program designed to provide a means for us to earn fees by linking to Amazon.com and affiliated sites.\\nRegistration on or use of this site constitutes acceptance of our Terms of Service.',\n",
              " '© 2022 Recurrent. All rights reserved.']"
            ]
          },
          "metadata": {},
          "execution_count": 30
        }
      ]
    },
    {
      "cell_type": "code",
      "source": [
        ""
      ],
      "metadata": {
        "id": "YLauW27G9d0w"
      },
      "execution_count": 28,
      "outputs": []
    }
  ]
}