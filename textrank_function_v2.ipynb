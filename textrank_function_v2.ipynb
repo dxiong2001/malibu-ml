{
  "nbformat": 4,
  "nbformat_minor": 0,
  "metadata": {
    "colab": {
      "name": "textrank_function_v2.ipynb",
      "provenance": [],
      "authorship_tag": "ABX9TyMesf0pAdi1Z4eHpLvgqyJW",
      "include_colab_link": true
    },
    "kernelspec": {
      "name": "python3",
      "display_name": "Python 3"
    },
    "language_info": {
      "name": "python"
    }
  },
  "cells": [
    {
      "cell_type": "markdown",
      "metadata": {
        "id": "view-in-github",
        "colab_type": "text"
      },
      "source": [
        "<a href=\"https://colab.research.google.com/github/dxiong2001/malibu-ml/blob/main/textrank_function_v2.ipynb\" target=\"_parent\"><img src=\"https://colab.research.google.com/assets/colab-badge.svg\" alt=\"Open In Colab\"/></a>"
      ]
    },
    {
      "cell_type": "code",
      "execution_count": 1,
      "metadata": {
        "id": "h00qqAqCK8SP",
        "colab": {
          "base_uri": "https://localhost:8080/"
        },
        "outputId": "67903b6b-3180-413d-9a44-969564e68a91"
      },
      "outputs": [
        {
          "output_type": "stream",
          "name": "stderr",
          "text": [
            "[nltk_data] Downloading package punkt to /root/nltk_data...\n",
            "[nltk_data]   Unzipping tokenizers/punkt.zip.\n",
            "[nltk_data] Downloading package stopwords to /root/nltk_data...\n",
            "[nltk_data]   Unzipping corpora/stopwords.zip.\n",
            "[nltk_data] Downloading package averaged_perceptron_tagger to\n",
            "[nltk_data]     /root/nltk_data...\n",
            "[nltk_data]   Unzipping taggers/averaged_perceptron_tagger.zip.\n"
          ]
        }
      ],
      "source": [
        "import numpy as np\n",
        "import pandas as pd\n",
        "import nltk\n",
        "import re\n",
        "from nltk.tokenize import sent_tokenize\n",
        "import nltk.tokenize.texttiling as tt\n",
        "from nltk.corpus import stopwords\n",
        "from gensim.models import Word2Vec\n",
        "from scipy import spatial\n",
        "import networkx as nx\n",
        "import spacy\n",
        "from spacy.lang.en.stop_words import STOP_WORDS\n",
        "from string import punctuation\n",
        "from heapq import nlargest\n",
        "# nltk.download('gutenberg')\n",
        "\n",
        "try:\n",
        "  nltk.data.find('tokenizers/punkt')\n",
        "  nltk.data.find('corpora/stopwords')\n",
        "  nltk.data.find('taggers/averaged_perceptron_tagger')\n",
        "  \n",
        "except:\n",
        "  nltk.download('punkt')\n",
        "  nltk.download('stopwords')\n",
        "  nltk.download('averaged_perceptron_tagger')\n",
        "# nltk.download('brown')\n",
        "\n",
        "nlp = spacy.load(\"en_core_web_sm\")\n",
        "import re"
      ]
    },
    {
      "cell_type": "code",
      "source": [
        "def textrank(text):\n",
        "\n",
        "  #Preproces text\n",
        "  sentences=sent_tokenize(text)\n",
        "  sentences_clean=[re.sub(r'[^\\w\\s]','',sentence.lower()) for sentence in sentences]\n",
        "  sentences_clean=[re.sub(r'\\[\\]','',sentence) for sentence in sentences_clean]\n",
        "  stop_words = stopwords.words('english')\n",
        "  sentence_tokens=[[words for words in sentence.split(' ') if words not in stop_words] for sentence in sentences_clean]\n",
        "\n",
        "  w2v=Word2Vec(sentence_tokens,size=128,min_count=1,iter=100)\n",
        "  sentence_embeddings=[[w2v[word][0] for word in words] for words in sentence_tokens]\n",
        "  max_len=max([len(tokens) for tokens in sentence_tokens])\n",
        "  sentence_embeddings=[np.pad(embedding,(0,max_len-len(embedding)),'constant') for embedding in sentence_embeddings]\n",
        "\n",
        "  similarity_matrix = np.zeros([len(sentence_tokens), len(sentence_tokens)])\n",
        "  for i,row_embedding in enumerate(sentence_embeddings):\n",
        "      for j,column_embedding in enumerate(sentence_embeddings):\n",
        "          similarity_matrix[i][j]=1-spatial.distance.cosine(row_embedding,column_embedding)\n",
        "\n",
        "\n",
        "  nx_graph = nx.from_numpy_array(similarity_matrix)\n",
        "  scores = nx.pagerank_numpy(nx_graph)\n",
        "  \n",
        "  #print(scores)\n",
        "  top_sentence={sentence:scores[index] for index,sentence in enumerate(sentences)}\n",
        "  #print(top_sentence)\n",
        "  top=dict(sorted(top_sentence.items(), key=lambda x: x[1], reverse=True)[:4])\n",
        "  #print(top)\n",
        "  #print(sentences_clean)\n",
        "  summ = []\n",
        "  i=0\n",
        "  for sent in sentences:\n",
        "    if sent in top.keys():\n",
        "        summ.append(re.sub(r'\\[\\d*\\] ','',sent))\n",
        "        #print(re.sub(r'\\[\\d*\\] ','',sent))\n",
        "        i=i+1\n",
        "  return summ"
      ],
      "metadata": {
        "id": "-B-2Wv8Y0FNM"
      },
      "execution_count": 17,
      "outputs": []
    },
    {
      "cell_type": "code",
      "source": [
        "def summarize(text, per):\n",
        "    nlp = spacy.load('en_core_web_sm')\n",
        "    doc= nlp(text)\n",
        "    tokens=[token.text for token in doc]\n",
        "    word_frequencies={}\n",
        "    for word in doc:\n",
        "        if word.text.lower() not in list(STOP_WORDS):\n",
        "            if word.text.lower() not in punctuation:\n",
        "                if word.text not in word_frequencies.keys():\n",
        "                    word_frequencies[word.text] = 1\n",
        "                else:\n",
        "                    word_frequencies[word.text] += 1\n",
        "    max_frequency=max(word_frequencies.values())\n",
        "    for word in word_frequencies.keys():\n",
        "        word_frequencies[word]=word_frequencies[word]/max_frequency\n",
        "    sentence_tokens= [sent for sent in doc.sents]\n",
        "    sentence_scores = {}\n",
        "    for sent in sentence_tokens:\n",
        "        for word in sent:\n",
        "            if word.text.lower() in word_frequencies.keys():\n",
        "                if sent not in sentence_scores.keys():                            \n",
        "                    sentence_scores[sent]=word_frequencies[word.text.lower()]\n",
        "                else:\n",
        "                    sentence_scores[sent]+=word_frequencies[word.text.lower()]\n",
        "    select_length=int(len(sentence_tokens)*per)\n",
        "    summary=nlargest(select_length, sentence_scores,key=sentence_scores.get)\n",
        "    final_summary=[word.text for word in summary]\n",
        "    summary=''.join(final_summary)\n",
        "    return summary\n",
        "\n"
      ],
      "metadata": {
        "id": "ognl-REI9Ext"
      },
      "execution_count": 3,
      "outputs": []
    },
    {
      "cell_type": "code",
      "source": [
        "\n",
        "class Summarizer:\n",
        "  def __init__(self, texttiler):\n",
        "    self.texttiler = texttiler\n",
        "\n",
        "  def texttile(self, text):\n",
        "    tokenized = self.texttiler.tokenize(text)\n",
        "    return tokenized\n",
        "\n",
        "  def generate(self, tokenized, top=1, percentage=0.2):\n",
        "    \n",
        "    length_t = len(tokenized)\n",
        "    l = {}\n",
        "    section_num = 1\n",
        "    \n",
        "    for t in range(length_t):\n",
        "      section = \"section \" + str(section_num)\n",
        "      section_text = []\n",
        "      \n",
        "      ranked_text = textrank(tokenized[t])\n",
        "      loop = min(top,len(ranked_text))\n",
        "      num_char_section = len(tokenized[t])\n",
        "      num_char = 0\n",
        "      for i in range(loop):\n",
        "        section_text.append(ranked_text[i].replace(\"\\n\\n\",\"\"))\n",
        "        num_char = num_char + len(ranked_text[i])\n",
        "        if(num_char/num_char_section > percentage):\n",
        "          break\n",
        "      l[section] = section_text\n",
        "      #textrank(tokenized[t])\n",
        "      #summ[t][0]=textrank(tokenized[t])[0]\n",
        "      #summ[t][1]=textrank(tokenized[t])#[1]\n",
        "      section_num +=1\n",
        "    return tokenized, l\n",
        "\n",
        "  def process(self, raw_text):\n",
        "    processed_text = \"\"\n",
        "    for i in raw_text:\n",
        "      processed_text = processed_text + i.replace(\"\\n\", \"\") + \" \"\n",
        "\n",
        "    return processed_text\n",
        "\n"
      ],
      "metadata": {
        "id": "mxqoa5FQbvw9"
      },
      "execution_count": 4,
      "outputs": []
    },
    {
      "cell_type": "code",
      "source": [
        "#Example\n",
        "import time\n",
        "text='''Preliminary clinical data from South Africa suggest that the COVID-19 Omicron variant may be less dangerous than initially feared. \n",
        "\n",
        "The South African Medical Research Council posted a report on Saturday outlining early Omicron cases from several hospitals. They found that patients infected with the Omicron strain tended to have less severe disease—most of the hospitalized patients did not need supplemental oxygen, a few developed COVID pneumonia, and fewer still required intensive care. \n",
        "\n",
        "\"The signals are a bit encouraging\" but Omicron's risk profile is still incomplete, Anthony Fauci, head of the National Institute of Allergy and Infectious Diseases, told CNN on Sunday. More clinical data from around the world will need to be assessed for epidemiologists to get a true sense of where Omicron stands in relation to other variants. \"Clearly, in South Africa, Omicron has a transmission advantage,\" Fauci added, \"although it's too early to make any definitive statements about it, thus far it does not look like there's a great degree of severity to it.\"\n",
        "\n",
        "The South African report is based on limited data, however. It included just 166 patients, most of whom were admitted to hospitals for reasons unrelated to COVID-19—their infections were only found because those hospitals are testing all incoming patients for the coronavirus. Many did not have respiratory symptoms and stayed at the hospital for a relatively short time. Vaccination status was not reported for all of the patients.\n",
        "\n",
        "\"We're just not seeing the number of patients that have been seen in previous surges who are seriously ill, even this soon into the surge,\" Michael Osterholm, director of the University of Minnesota's Center for Infectious Diseases Research and Policy, told STAT, adding that he is \"impressed by the relative lack of severe illness\" with Omicron so far. \n",
        "\n",
        "\n",
        "\n",
        "Data from the South African report show that the patients included tended to skew younger, which the report's authors write could be a vaccination effect, \"as 57 percent of people over the age of 50 have been vaccinated in the province compared to 34 percent in the 18-to-49-year group.\"\n",
        "\n",
        "Although Omicron appears to produce milder disease, scientists will need to study the effects of Omicron in different demographics, Marion Koopmans, head of virology at Erasmus Medical Center in Rotterdam, the Netherlands, told STAT. \"Only once we have seen this spread across age groups, we will be able to tell,\" she said.\n",
        "\n",
        "Omicron has been detected in at least 16 states and at least 45 nations worldwide. Nevertheless, the Delta variant still seems to be the primary cause for concern, making up the majority of severe cases in the US—despite Omicron's high transmissibility.\n",
        "\n",
        "Omicron may have picked up genetic materials from the virus that causes the common cold in humans, resulting in the variant's high contagiousness. A preprint, non-peer-reviewed study from a Massachusetts-based firm says that Omicron's genetic code contains a sequence shared with the cold virus—a sequence that no other coronavirus variant seems to contain.\n",
        "\n",
        "\"By virtue of Omicron adopting this insertion ... it is essentially taking a leaf out of the seasonal coronaviruses' page, which [explains] ... how it lives and transmits more efficiently with human beings,\" Venky Soundararajan, a biological engineer at Nference who co-wrote the study, told The Washington Post.\n",
        "'''\n",
        "\n",
        "\n",
        "\n",
        "texttiler = tt.TextTilingTokenizer(w=30, k=40)\n",
        "\n",
        "s1 = Summarizer(texttiler)\n",
        "# #start_time = time.time()\n",
        "tokenized = s1.texttile(text)\n",
        "print(tokenized)\n",
        "processed_tokenized = []\n",
        "for t in tokenized:\n",
        "  processed_tokenized.append([t])\n",
        "print(processed_tokenized)\n",
        "raw_text1 = s1.generate([text], 3)\n",
        "# #print(\"--- %s seconds ---\" % (time.time() - start_time))\n",
        "\n",
        "#raw_text2 = s1.generate(text, 2)\n",
        "#print(s1.process(raw_text1))\n",
        "#print(s1.process(raw_text2))\n",
        "\n",
        "\n"
      ],
      "metadata": {
        "id": "SCgO7yOKcyUO",
        "colab": {
          "base_uri": "https://localhost:8080/"
        },
        "outputId": "58d18967-b6ab-436b-d2ca-e499ab4e0cf0"
      },
      "execution_count": 22,
      "outputs": [
        {
          "output_type": "stream",
          "name": "stdout",
          "text": [
            "['Preliminary clinical data from South Africa suggest that the COVID-19 Omicron variant may be less dangerous than initially feared. \\n\\nThe South African Medical Research Council posted a report on Saturday outlining early Omicron cases from several hospitals. They found that patients infected with the Omicron strain tended to have less severe disease—most of the hospitalized patients did not need supplemental oxygen, a few developed COVID pneumonia, and fewer still required intensive care.', ' \\n\\n\"The signals are a bit encouraging\" but Omicron\\'s risk profile is still incomplete, Anthony Fauci, head of the National Institute of Allergy and Infectious Diseases, told CNN on Sunday. More clinical data from around the world will need to be assessed for epidemiologists to get a true sense of where Omicron stands in relation to other variants. \"Clearly, in South Africa, Omicron has a transmission advantage,\" Fauci added, \"although it\\'s too early to make any definitive statements about it, thus far it does not look like there\\'s a great degree of severity to it.\"\\n\\nThe South African report is based on limited data, however. It included just 166 patients, most of whom were admitted to hospitals for reasons unrelated to COVID-19—their infections were only found because those hospitals are testing all incoming patients for the coronavirus. Many did not have respiratory symptoms and stayed at the hospital for a relatively short time. Vaccination status was not reported for all of the patients.\\n\\n\"We\\'re just not seeing the number of patients that have been seen in previous surges who are seriously ill, even this soon into the surge,\" Michael Osterholm, director of the University of Minnesota\\'s Center for Infectious Diseases Research and Policy, told STAT, adding that he is \"impressed by the relative lack of severe illness\" with Omicron so far. \\n\\n\\n\\nData from the South African report show that the patients included tended to skew younger, which the report\\'s authors write could be a vaccination effect, \"as 57 percent of people over the age of 50 have been vaccinated in the province compared to 34 percent in the 18-to-49-year group.\"', '\\n\\nAlthough Omicron appears to produce milder disease, scientists will need to study the effects of Omicron in different demographics, Marion Koopmans, head of virology at Erasmus Medical Center in Rotterdam, the Netherlands, told STAT. \"Only once we have seen this spread across age groups, we will be able to tell,\" she said.\\n\\nOmicron has been detected in at least 16 states and at least 45 nations worldwide. Nevertheless, the Delta variant still seems to be the primary cause for concern, making up the majority of severe cases in the US—despite Omicron\\'s high transmissibility.', '\\n\\nOmicron may have picked up genetic materials from the virus that causes the common cold in humans, resulting in the variant\\'s high contagiousness. A preprint, non-peer-reviewed study from a Massachusetts-based firm says that Omicron\\'s genetic code contains a sequence shared with the cold virus—a sequence that no other coronavirus variant seems to contain.\\n\\n\"By virtue of Omicron adopting this insertion ... it is essentially taking a leaf out of the seasonal coronaviruses\\' page, which [explains] ... how it lives and transmits more efficiently with human beings,\" Venky Soundararajan, a biological engineer at Nference who co-wrote the study, told The Washington Post.\\n']\n",
            "[['Preliminary clinical data from South Africa suggest that the COVID-19 Omicron variant may be less dangerous than initially feared. \\n\\nThe South African Medical Research Council posted a report on Saturday outlining early Omicron cases from several hospitals. They found that patients infected with the Omicron strain tended to have less severe disease—most of the hospitalized patients did not need supplemental oxygen, a few developed COVID pneumonia, and fewer still required intensive care.'], [' \\n\\n\"The signals are a bit encouraging\" but Omicron\\'s risk profile is still incomplete, Anthony Fauci, head of the National Institute of Allergy and Infectious Diseases, told CNN on Sunday. More clinical data from around the world will need to be assessed for epidemiologists to get a true sense of where Omicron stands in relation to other variants. \"Clearly, in South Africa, Omicron has a transmission advantage,\" Fauci added, \"although it\\'s too early to make any definitive statements about it, thus far it does not look like there\\'s a great degree of severity to it.\"\\n\\nThe South African report is based on limited data, however. It included just 166 patients, most of whom were admitted to hospitals for reasons unrelated to COVID-19—their infections were only found because those hospitals are testing all incoming patients for the coronavirus. Many did not have respiratory symptoms and stayed at the hospital for a relatively short time. Vaccination status was not reported for all of the patients.\\n\\n\"We\\'re just not seeing the number of patients that have been seen in previous surges who are seriously ill, even this soon into the surge,\" Michael Osterholm, director of the University of Minnesota\\'s Center for Infectious Diseases Research and Policy, told STAT, adding that he is \"impressed by the relative lack of severe illness\" with Omicron so far. \\n\\n\\n\\nData from the South African report show that the patients included tended to skew younger, which the report\\'s authors write could be a vaccination effect, \"as 57 percent of people over the age of 50 have been vaccinated in the province compared to 34 percent in the 18-to-49-year group.\"'], ['\\n\\nAlthough Omicron appears to produce milder disease, scientists will need to study the effects of Omicron in different demographics, Marion Koopmans, head of virology at Erasmus Medical Center in Rotterdam, the Netherlands, told STAT. \"Only once we have seen this spread across age groups, we will be able to tell,\" she said.\\n\\nOmicron has been detected in at least 16 states and at least 45 nations worldwide. Nevertheless, the Delta variant still seems to be the primary cause for concern, making up the majority of severe cases in the US—despite Omicron\\'s high transmissibility.'], ['\\n\\nOmicron may have picked up genetic materials from the virus that causes the common cold in humans, resulting in the variant\\'s high contagiousness. A preprint, non-peer-reviewed study from a Massachusetts-based firm says that Omicron\\'s genetic code contains a sequence shared with the cold virus—a sequence that no other coronavirus variant seems to contain.\\n\\n\"By virtue of Omicron adopting this insertion ... it is essentially taking a leaf out of the seasonal coronaviruses\\' page, which [explains] ... how it lives and transmits more efficiently with human beings,\" Venky Soundararajan, a biological engineer at Nference who co-wrote the study, told The Washington Post.\\n']]\n"
          ]
        },
        {
          "output_type": "stream",
          "name": "stderr",
          "text": [
            "/usr/local/lib/python3.7/dist-packages/ipykernel_launcher.py:11: DeprecationWarning: Call to deprecated `__getitem__` (Method will be removed in 4.0.0, use self.wv.__getitem__() instead).\n",
            "  # This is added back by InteractiveShellApp.init_path()\n",
            "/usr/local/lib/python3.7/dist-packages/ipykernel_launcher.py:22: DeprecationWarning: networkx.pagerank_numpy is deprecated and will be removed in NetworkX 3.0, use networkx.pagerank instead.\n"
          ]
        }
      ]
    },
    {
      "cell_type": "code",
      "source": [
        "\n",
        "print(raw_text1[1])\n",
        "print(len(raw_text1[1]))\n",
        "\n",
        "sent_nlp = nlp(raw_text1[1]['section 1'][0])\n",
        "\n",
        "named_entities=[]\n",
        "for entities in sent_nlp.ents:\n",
        "  named_entities.append((entities.text, entities.label_))\n",
        "  #print(entities.text, entities.label_)\n",
        "if not len(named_entities):\n",
        "  raw_text1[1].pop('section 1')\n",
        "\n",
        "print(raw_text1[1])"
      ],
      "metadata": {
        "id": "ng61u0PyLAXf",
        "colab": {
          "base_uri": "https://localhost:8080/"
        },
        "outputId": "8db42577-252d-4aed-a2ce-145d0f0b2c26"
      },
      "execution_count": 23,
      "outputs": [
        {
          "output_type": "stream",
          "name": "stdout",
          "text": [
            "{'section 1': ['They found that patients infected with the Omicron strain tended to have less severe disease—most of the hospitalized patients did not need supplemental oxygen, a few developed COVID pneumonia, and fewer still required intensive care.', '\"Clearly, in South Africa, Omicron has a transmission advantage,\" Fauci added, \"although it\\'s too early to make any definitive statements about it, thus far it does not look like there\\'s a great degree of severity to it.\"', 'It included just 166 patients, most of whom were admitted to hospitals for reasons unrelated to COVID-19—their infections were only found because those hospitals are testing all incoming patients for the coronavirus.']}\n",
            "1\n",
            "{'section 1': ['They found that patients infected with the Omicron strain tended to have less severe disease—most of the hospitalized patients did not need supplemental oxygen, a few developed COVID pneumonia, and fewer still required intensive care.', '\"Clearly, in South Africa, Omicron has a transmission advantage,\" Fauci added, \"although it\\'s too early to make any definitive statements about it, thus far it does not look like there\\'s a great degree of severity to it.\"', 'It included just 166 patients, most of whom were admitted to hospitals for reasons unrelated to COVID-19—their infections were only found because those hospitals are testing all incoming patients for the coronavirus.']}\n"
          ]
        }
      ]
    },
    {
      "cell_type": "code",
      "source": [
        "print('\\n\\n'.join(raw_text1[0]))"
      ],
      "metadata": {
        "colab": {
          "base_uri": "https://localhost:8080/"
        },
        "id": "GEGzx0pf6Pb7",
        "outputId": "6e9fd3dd-3eb5-49f8-98d9-2574d11f6870"
      },
      "execution_count": null,
      "outputs": [
        {
          "output_type": "stream",
          "name": "stdout",
          "text": [
            "The ocean is big, and our attempts to understand it are still largely surface-deep. According to the National Oceanic and Atmospheric Organization, around 80 percent of the big blue is \"unmapped, unobserved, and unexplored.\"\n",
            "\n",
            "\n",
            "\n",
            "Ships are the primary way to collect information about the seas, but they're costly to send out frequently. More recently, robotic buoys called Argo floats have been drifting with the currents, diving up and down to take a variety of measurements at depths up to 6,500 feet. But new aquatic robots from a lab at Caltech could rove deeper and take on more tailored underwater missions.\n",
            "\n",
            "\"We're imagining an approach for global ocean exploration where you take swarms of smaller robots of various types and populate the ocean with them for tracking, for climate change, for understanding the physics of the ocean,\" says John O. Dabiri, a professor of aeronautics and mechanical engineering at the California Institute of Technology. \n",
            "\n",
            "In comes CARL-Bot (Caltech Autonomous Reinforcement Learning Robot), a palm-sized aquatic robot that looks like a cross between a pill capsule and a dumbo octopus. It has motors for swimming around, is weighted to stay upright, and has sensors that can detect pressure, depth, acceleration, and orientation. Everything that CARL does is powered by a microcontroller inside, which has a 1-megabyte processor that's smaller than a postage stamp.\n",
            "\n",
            "CARL is the latest ocean-traversing innovation out of Dabiri's lab, created and 3D-printed at home by Caltech graduate student Peter Gunnarson. The first tests Gunnarson ran with it were in his bathtub, since Caltech's labs were closed at the start of 2021 because of COVID.\n",
            "\n",
            " \n",
            "\n",
            "Right now, CARL can still be remotely controlled. But to really get to the deepest parts of the ocean, there can't be any hand-holding involved. That means no researchers giving CARL directions—it needs to learn to navigate the mighty ocean on its own. Gunnarson and Dabiri sought out computer scientist Petros Koumoutsakos, who helped develop AI algorithms for CARL that could teach it to orient itself based on changes in its immediate environment and past experiences. Their research was published this week in Nature Communications.\n",
            "\n",
            "CARL can decide to adjust its route on-the-fly to maneuver around the rough currents and get to its destination. Or it can stay put in a designated location using \"minimal energy\" from a lithium-ion battery.\n",
            "\n"
          ]
        }
      ]
    },
    {
      "cell_type": "code",
      "source": [
        ""
      ],
      "metadata": {
        "id": "aaQuulvp9Zfh"
      },
      "execution_count": null,
      "outputs": []
    }
  ]
}